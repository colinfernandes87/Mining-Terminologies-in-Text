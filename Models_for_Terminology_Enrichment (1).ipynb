{
  "nbformat": 4,
  "nbformat_minor": 0,
  "metadata": {
    "colab": {
      "name": "Models for Terminology Enrichment",
      "provenance": [],
      "collapsed_sections": [],
      "toc_visible": true,
      "machine_shape": "hm"
    },
    "kernelspec": {
      "name": "python3",
      "display_name": "Python 3"
    }
  },
  "cells": [
    {
      "cell_type": "markdown",
      "metadata": {
        "id": "Gsmrz5-d3jcA",
        "colab_type": "text"
      },
      "source": [
        "# Automatic Term Recognition"
      ]
    },
    {
      "cell_type": "markdown",
      "metadata": {
        "id": "hgGZDStPteED",
        "colab_type": "text"
      },
      "source": [
        "## Mount Google Drive"
      ]
    },
    {
      "cell_type": "code",
      "metadata": {
        "id": "KRn83uGRkR28",
        "colab_type": "code",
        "colab": {
          "base_uri": "https://localhost:8080/",
          "height": 124
        },
        "outputId": "789ac1f8-c477-4231-a3bf-6b6ee49073cd"
      },
      "source": [
        "from google.colab import drive\n",
        "drive.mount('/content/gdrive', force_remount=False)"
      ],
      "execution_count": null,
      "outputs": [
        {
          "output_type": "stream",
          "text": [
            "Go to this URL in a browser: https://accounts.google.com/o/oauth2/auth?client_id=947318989803-6bn6qk8qdgf4n4g3pfee6491hc0brc4i.apps.googleusercontent.com&redirect_uri=urn%3aietf%3awg%3aoauth%3a2.0%3aoob&response_type=code&scope=email%20https%3a%2f%2fwww.googleapis.com%2fauth%2fdocs.test%20https%3a%2f%2fwww.googleapis.com%2fauth%2fdrive%20https%3a%2f%2fwww.googleapis.com%2fauth%2fdrive.photos.readonly%20https%3a%2f%2fwww.googleapis.com%2fauth%2fpeopleapi.readonly\n",
            "\n",
            "Enter your authorization code:\n",
            "··········\n",
            "Mounted at /content/gdrive\n"
          ],
          "name": "stdout"
        }
      ]
    },
    {
      "cell_type": "markdown",
      "metadata": {
        "id": "27pj3nT3xPkO",
        "colab_type": "text"
      },
      "source": [
        "## Save and Load"
      ]
    },
    {
      "cell_type": "code",
      "metadata": {
        "id": "22HEbf4DxOr7",
        "colab_type": "code",
        "colab": {}
      },
      "source": [
        "import json\n",
        "def save_list(filename, list_obj):\n",
        "    # open output file for writing\n",
        "    with open(filename, 'w') as filehandle:\n",
        "        json.dump(list_obj, filehandle)\n",
        "    filehandle.close\n",
        "\n",
        "def load_list(filename):\n",
        "    with open(filename, 'r') as filehandle:\n",
        "        return json.load(filehandle)"
      ],
      "execution_count": null,
      "outputs": []
    },
    {
      "cell_type": "markdown",
      "metadata": {
        "id": "jAAjAmixrwj3",
        "colab_type": "text"
      },
      "source": [
        "## Download CAP dataset"
      ]
    },
    {
      "cell_type": "code",
      "metadata": {
        "id": "RCYXbzrs1sgY",
        "colab_type": "code",
        "colab": {}
      },
      "source": [
        "import os, shutil, requests, zipfile, time\n",
        "corpus_dir = '/content/gdrive/My Drive/Thesis/data'\n",
        "data_cache = './data/cache'\n",
        "corpus_file = os.path.join(corpus_dir, 'Illinois-20200302-text/data/data.jsonl.xz')\n",
        "corpus_data = os.path.join(corpus_dir, 'Illinois-20200302-text/data/')\n",
        "data_text_file = os.path.join(corpus_dir, 'illinois_vb.txt')"
      ],
      "execution_count": null,
      "outputs": []
    },
    {
      "cell_type": "code",
      "metadata": {
        "id": "dgIMMBMq2G8E",
        "colab_type": "code",
        "colab": {
          "base_uri": "https://localhost:8080/",
          "height": 35
        },
        "outputId": "70fd874a-8402-4da5-a662-8f074e9083bc"
      },
      "source": [
        "import os, shutil, requests, zipfile, time\n",
        "#download if file doesn't exist\n",
        "def download_data():\n",
        "    if not os.path.isfile(corpus_file):\n",
        "        if not os.path.exists(corpus_dir):\n",
        "            os.makedirs(corpus_dir)\n",
        "\n",
        "        corpus_zip = 'Illinois-20200302-text.zip'    \n",
        "        download_url = 'https://api.case.law/v1/bulk/22341/download/'\n",
        "        \n",
        "        if not os.path.exists(data_cache):\n",
        "            os.makedirs(data_cache)\n",
        "\n",
        "        zipfilepath = os.path.join(data_cache, corpus_zip)\n",
        "\n",
        "        if not os.path.isfile( zipfilepath ):\n",
        "            response = requests.get(download_url, stream=True)\n",
        "            with open(zipfilepath, 'wb') as out_file:\n",
        "                shutil.copyfileobj(response.raw, out_file)\n",
        "\n",
        "        if not os.path.isfile(corpus_file):\n",
        "            with zipfile.ZipFile(zipfilepath, 'r') as zip_ref:\n",
        "                zip_ref.extractall(corpus_dir)\n",
        "        # Get rid of zipfilepath source (the required text file itself will remain)\n",
        "        os.unlink(zipfilepath)\n",
        "    return print(\"Corpus available locally\")\n",
        "\n",
        "#Download Illinois Data\n",
        "download_data()"
      ],
      "execution_count": null,
      "outputs": [
        {
          "output_type": "stream",
          "text": [
            "Corpus available locally\n"
          ],
          "name": "stdout"
        }
      ]
    },
    {
      "cell_type": "markdown",
      "metadata": {
        "id": "TXt9xTswsHRo",
        "colab_type": "text"
      },
      "source": [
        "## Install NLTK  and other Libraries"
      ]
    },
    {
      "cell_type": "code",
      "metadata": {
        "id": "DvMXr4er5dTQ",
        "colab_type": "code",
        "colab": {
          "base_uri": "https://localhost:8080/",
          "height": 52
        },
        "outputId": "d67b5791-ce25-46fb-a389-ff6440726f2c"
      },
      "source": [
        "#updata NLTK library\n",
        "!pip install -U -q nltk"
      ],
      "execution_count": null,
      "outputs": [
        {
          "output_type": "stream",
          "text": [
            "\u001b[K     |████████████████████████████████| 1.4MB 1.7MB/s \n",
            "\u001b[?25h  Building wheel for nltk (setup.py) ... \u001b[?25l\u001b[?25hdone\n"
          ],
          "name": "stdout"
        }
      ]
    },
    {
      "cell_type": "code",
      "metadata": {
        "id": "Dlod_iPPb2fg",
        "colab_type": "code",
        "colab": {
          "base_uri": "https://localhost:8080/",
          "height": 52
        },
        "outputId": "177bb5e4-8dd7-49bf-e8ad-8a546fa40896"
      },
      "source": [
        "#Download Required libraries\n",
        "import nltk\n",
        "print (nltk.__version__)\n",
        "from nltk.corpus import stopwords \n",
        "from nltk.tokenize import word_tokenize as wd, sent_tokenize, WhitespaceTokenizer #,RegexpTokenizer , TweetTokenizer,  WordPunctTokenizer\n",
        "nltk.download('stopwords', quiet=True)\n",
        "nltk.download('punkt',quiet=True)\n",
        "nltk.download('averaged_perceptron_tagger',quiet=True)\n",
        "#from nltk.stem import PorterStemmer\n",
        "# from collections import Counter\n",
        "#from num2words import num2words"
      ],
      "execution_count": null,
      "outputs": [
        {
          "output_type": "stream",
          "text": [
            "3.5\n"
          ],
          "name": "stdout"
        },
        {
          "output_type": "execute_result",
          "data": {
            "text/plain": [
              "True"
            ]
          },
          "metadata": {
            "tags": []
          },
          "execution_count": 7
        }
      ]
    },
    {
      "cell_type": "markdown",
      "metadata": {
        "id": "Ql1mIsPvgQ2f",
        "colab_type": "text"
      },
      "source": [
        "### *(Not to Execute) Tokenizer Test*"
      ]
    },
    {
      "cell_type": "code",
      "metadata": {
        "id": "q_YxAGnveG0R",
        "colab_type": "code",
        "colab": {
          "base_uri": "https://localhost:8080/",
          "height": 126
        },
        "outputId": "5664accd-2101-4515-abce-bca1c8d1a558"
      },
      "source": [
        "from nltk.tokenize import word_tokenize as wd, sent_tokenize, WhitespaceTokenizer ,RegexpTokenizer , TweetTokenizer,  WordPunctTokenizer\n",
        "rt = RegexpTokenizer(\"[\\w']+\")\n",
        "wt = WhitespaceTokenizer()\n",
        "tt = TweetTokenizer()\n",
        "wp = WordPunctTokenizer()\n",
        "tokens=[]\n",
        "text = \"In Düsseldorf I took my hat off. But I can't put it back on.\"\n",
        "sentences = sent_tokenize(text)\n",
        "print('TreebankWordTokenizer :',[wd(sent) for sent in sentences])\n",
        "print('TweetTokenizer :',[tt.tokenize(sent)for sent in sentences])\n",
        "print('WhitespaceTokenizer :', [wt.tokenize(sent)for sent in sentences])\n",
        "print('WordPunctTokenizer :', [wp.tokenize(sent)for sent in sentences])\n",
        "print('RegexpTokenizer :', [rt.tokenize(sent)for sent in sentences])"
      ],
      "execution_count": null,
      "outputs": [
        {
          "output_type": "stream",
          "text": [
            "TreebankWordTokenizer : [['In', 'Düsseldorf', 'I', 'took', 'my', 'hat', 'off', '.'], ['But', 'I', 'ca', \"n't\", 'put', 'it', 'back', 'on', '.']]\n",
            "TweetTokenizer : [['In', 'Düsseldorf', 'I', 'took', 'my', 'hat', 'off', '.'], ['But', 'I', \"can't\", 'put', 'it', 'back', 'on', '.']]\n",
            "WhitespaceTokenizer : [['In', 'Düsseldorf', 'I', 'took', 'my', 'hat', 'off.'], ['But', 'I', \"can't\", 'put', 'it', 'back', 'on.']]\n",
            "WordPunctTokenizer : [['In', 'Düsseldorf', 'I', 'took', 'my', 'hat', 'off', '.'], ['But', 'I', 'can', \"'\", 't', 'put', 'it', 'back', 'on', '.']]\n",
            "RegexpTokenizer : [['In', 'Düsseldorf', 'I', 'took', 'my', 'hat', 'off'], ['But', 'I', \"can't\", 'put', 'it', 'back', 'on']]\n"
          ],
          "name": "stdout"
        }
      ]
    },
    {
      "cell_type": "markdown",
      "metadata": {
        "id": "FyLTrshUsy4s",
        "colab_type": "text"
      },
      "source": [
        "## Text Preprocessing Functions"
      ]
    },
    {
      "cell_type": "code",
      "metadata": {
        "id": "XkAYFfSfT5Sb",
        "colab_type": "code",
        "colab": {}
      },
      "source": [
        "import re\n",
        "def unNest(nested_list):\n",
        "    ''' recursively flattern nested lists '''\n",
        "    if not (any(isinstance(i, list) for i in nested_list)):\n",
        "        return nested_list\n",
        "    else:\n",
        "        nested_list = functools.reduce(operator.iconcat, nested_list, [])\n",
        "        return unNest(nested_list)\n",
        "\n",
        "def preprocess(lst):\n",
        "    lst = remove_punctuation(lst) #needed again as num2word is giving few hypens and commas fourty-one\n",
        "    lst = remove_stop_words(lst) #needed again as num2word is giving stop words 101 - one hundred and one\n",
        "    return lst\n",
        "\n",
        "def remove_stop_words(lst):\n",
        "    stop_words = set(stopwords.words('english'))\n",
        "    gen = (x for x in lst if x.lower() not in stop_words)\n",
        "    return list(gen)\n",
        "\n",
        "def remove_punctuation(lst):\n",
        "    #symbols = \"!\\\"#$%&()*+/·:;<=>?@[\\]^_`{|}~\\n\"\n",
        "    symbols =\"!\\\"#$%&()*+/.:;<=>?@[\\]^_`”‘“—–‐-−,″{|}~\\n\"\n",
        "    # pattern = re.compile(r'\\W')\n",
        "    gen = (x.strip(symbols) for x in lst)\n",
        "    return list(gen)\n",
        "\n",
        "def rem_specialchars(lst):\n",
        "    symbols =\"!\\\"#$%&()*+/.:;<=>?@[\\]^_`”‘“—–‐-−,″{|}~\\n\"\n",
        "    pattern = re.compile(r'\\W')\n",
        "    stop_words = set(stopwords.words('english'))\n",
        "    return [[' '.join(tok.strip(symbols) for tok in term.split(' ') if tok.lower() not in stop_words ) for term in sent if not pattern.match(term)] for sent in lst]\n",
        "\n",
        "import functools\n",
        "import operator\n",
        "from functools import reduce\n",
        "\n",
        "def flattern(nested_list):\n",
        "    ''' recursively flattern nested lists '''\n",
        "    if not (any(isinstance(i, list) for i in nested_list)):\n",
        "        return nested_list\n",
        "    else:\n",
        "        nested_list = functools.reduce(operator.iconcat, nested_list, [])\n",
        "        return flattern(nested_list)\n",
        "\n",
        "def getSizeOfNestedList(nested_list):\n",
        "    def flattern(nested_list):\n",
        "        ''' recursively flattern nested lists '''\n",
        "        if not (any(isinstance(i, list) for i in nested_list)):\n",
        "            return nested_list\n",
        "        else:\n",
        "            nested_list = functools.reduce(operator.iconcat, nested_list, [])\n",
        "            return flattern(nested_list)\n",
        "\n",
        "    nested_list=flattern(nested_list)\n",
        "    ln = list(set(nested_list))\n",
        "    return len(ln)\n",
        "\n",
        "\n",
        "import json\n",
        "def getSizeOfNestedList(listOfElem):\n",
        "    ''' Get number of elements in a nested list'''\n",
        "    count = 0\n",
        "    # Iterate over the list\n",
        "    for elem in listOfElem:\n",
        "        # Check if type of element is list\n",
        "        if type(elem) == list:  \n",
        "            # Again call this function to get the size of this element\n",
        "            count += getSizeOfNestedList(elem)\n",
        "        else:\n",
        "            count += 1    \n",
        "    return count\n",
        "\n",
        "\n",
        "def save_tokens(token_text_file,list_obj): \n",
        "    with open(token_text_file, 'ab+') as f:\n",
        "        f.seek(0,2)                                #Go to the end of file    \n",
        "        if f.tell() == 0 :                         #Check if file is empty\n",
        "            f.write(json.dumps([list_obj]).encode())  #If empty, write an array\n",
        "        else :\n",
        "            f.seek(-2,1)           \n",
        "            f.truncate()                           #Remove the last character, open the array\n",
        "            f.write(' , '.encode())                #Write the separator\n",
        "            f.write(json.dumps(list_obj).encode())    #Dump the dictionary\n",
        "            f.write(']'.encode())  "
      ],
      "execution_count": null,
      "outputs": []
    },
    {
      "cell_type": "markdown",
      "metadata": {
        "id": "Gt4Mn9Iis_Ju",
        "colab_type": "text"
      },
      "source": [
        "## Tokenizer and POS tagger"
      ]
    },
    {
      "cell_type": "code",
      "metadata": {
        "id": "7YmbejZvlPIY",
        "colab_type": "code",
        "colab": {}
      },
      "source": [
        "import lzma, json\n",
        "wt = WhitespaceTokenizer()\n",
        "def tokenize_data(corpus_file):    \n",
        "    with lzma.open(corpus_file) as in_file:\n",
        "        for line in in_file:\n",
        "            case = json.loads(str(line, 'utf8'))\n",
        "            tokenized_para = []\n",
        "            for opinion in case['casebody']['data']['opinions']:\n",
        "                sentences = sent_tokenize(opinion['text'])\n",
        "                for sent in sentences:\n",
        "                    tokenized_para.append(list(filter(None,remove_punctuation(wt.tokenize(sent)))))\n",
        "            tokenized_name=list(filter(None,(wd(case['name']))))\n",
        "            yield tokenized_para, tokenized_name\n",
        "\n",
        "def tag_pos(tokenize_list, grouped=False):\n",
        "    if grouped: \n",
        "        return nltk.pos_tag_sents(tokenize_list)\n",
        "    else: return nltk.pos_tag(tokenize_list)\n",
        "\n",
        "corpus_dir = '/content/gdrive/My Drive/Thesis/data'\n"
      ],
      "execution_count": null,
      "outputs": []
    },
    {
      "cell_type": "markdown",
      "metadata": {
        "id": "ubBSOwxAtEyA",
        "colab_type": "text"
      },
      "source": [
        "## Noun Phrase Chunker"
      ]
    },
    {
      "cell_type": "code",
      "metadata": {
        "id": "z5XZOR2pF6l7",
        "colab_type": "code",
        "colab": {}
      },
      "source": [
        "# nltk.help.upenn_tagset():\n",
        "def extract_np(parsed_sent):\n",
        "  for subtree in parsed_sent.subtrees():\n",
        "    if subtree.label() == 'NP':\n",
        "        yield ' '.join(word for word, tag in subtree.leaves())\n",
        "        # yield (' '.join(word for word, tag in subtree.leaves()), ' '.join(tag for word, tag in subtree.leaves()))\n",
        "\n",
        "def chunker(tagged_sent, grouped=False):\n",
        "    grammar = r\"\"\"\n",
        "    NP: \n",
        "    # ATR4s - Nikitha Astrakhantsev\n",
        "        #{(<NN(S)?>|<JJ>|<NNP>|<NN(S?)><IN>)*(<NN(S)?>)}\n",
        "\n",
        "    #Frantzi & Justeson #Open\n",
        "        # {<NN.*>+<NN.*>}\n",
        "        # {(<JJ>|<NN.*>)+(<NN.*>)}\n",
        "        # {((<JJ>|<NN.*>)+|((<JJ>|<NN.*>)*(<NN.*><IN>)?)(<JJ>|<NN.*>)*)<NN.*>}\n",
        "    \n",
        "    #termight\n",
        "        # {<NN.*>+} # Closed\n",
        "    \n",
        "    #NLTK\n",
        "        # {<DT>?<JJ>*<NN.*>}\n",
        "    \n",
        "    #ATR - Personalized\n",
        "        {<NNP>{1,3}<NN?>?} \n",
        "        {(<JJ>|<NN>)<NN?>{1,3}}\n",
        "        {<DT>?<JJ>*<NN>}               \n",
        "        {<DT>?<NN>+}\n",
        "\n",
        "      \"\"\"\n",
        "#{<DT>?<JJ>*<NN>}\n",
        "\n",
        "    cp = nltk.RegexpParser(grammar)\n",
        "    if grouped:\n",
        "        parsed_sent = list(map(cp.parse,filter(None,tagged_sent)))\n",
        "        return list(filter(None, map(extract_np,parsed_sent)))\n",
        "    else:\n",
        "        parsed_sent = cp.parse(tagged_sent)\n",
        "        return extract_np(parsed_sent)"
      ],
      "execution_count": null,
      "outputs": []
    },
    {
      "cell_type": "markdown",
      "metadata": {
        "id": "O5t7QC0LzMj6",
        "colab_type": "text"
      },
      "source": [
        "### *(Not to Run) List Creation [ tokens ]*"
      ]
    },
    {
      "cell_type": "code",
      "metadata": {
        "id": "u880MOgJwq1y",
        "colab_type": "code",
        "colab": {
          "base_uri": "https://localhost:8080/",
          "height": 35
        },
        "outputId": "29e0b06e-a7af-40a1-feac-4626f994da85"
      },
      "source": [
        "#Create tokens for testing \n",
        "tokenize_data_gen = tokenize_data(corpus_file)\n",
        "import sys, os, time\n",
        "import pandas as pd\n",
        "import math\n",
        "from collections import Counter\n",
        "import numpy as np\n",
        "import matplotlib.pyplot as plt\n",
        "import matplotlib as mpl\n",
        "from operator import itemgetter\n",
        "tm=start_time= time.time()\n",
        "# gmr_filter=[NLTK, ATR4s, Closed, Open, Personalized]\n",
        "gmr_filter = [Personalized]\n",
        "ling_filter={}\n",
        "for gmr in gmr_filter:\n",
        "    chunked = []\n",
        "    tokens = []\n",
        "    tags = []\n",
        "    length_tokens = 0\n",
        "    count=0\n",
        "    req_docs = 10#183146\n",
        "    # fz_toks= frozenset()\n",
        "    for tokenized, tokenized_name in tokenize_data_gen:\n",
        "        count+=1\n",
        "        # para_tokens.append(tokenized_para)\n",
        "        # fset = reduce(frozenset.union, fl_para)   \n",
        "        tagged = tag_pos(tokenized,grouped=True)\n",
        "        tokens.append(tokenized)\n",
        "        tags.append(tagged)\n",
        "        chunked.append(list(filter(None, (term for term in map(list, chunker(tagged,gmr, grouped=True))))))\n",
        "        length_tokens+=getSizeOfNestedList(chunked)\n",
        "            # if count%10000==0:\n",
        "            #     fl_para=unNest(para_tokens)   \n",
        "            #     fz_para=frozenset(fl_para)\n",
        "            #     fz_toks=frozenset.union(fz_toks,fz_para)\n",
        "            #     para_tokens = []\n",
        "        if count%100 == 0: tm=(time.time()-start_time)/count\n",
        "        eta = time.strftime(\"%H:%M:%S\",time.gmtime(tm*(req_docs-count)))\n",
        "        et = time.strftime(\"%H:%M:%S\",time.gmtime(time.time()-start_time))\n",
        "        sys.stdout.write('\\r'+'Progress:    '+'{:.1f}%'.format(count*100/req_docs)+'    Doccuments Processed: '+str(count)+'    Token Length: '+str(length_tokens)+'    ETA: '+str(eta)+'    ETA: '+str(et))\n",
        "        if count == req_docs: break\n",
        "#             print('\\nTokens From Paragraph :', length_tokens)\n",
        "#             cnt= 0\n",
        "#             table=[]\n",
        "#             fl_chunks=flattern(chunked)\n",
        "#             cts = Counter(tag for word , tag in fl_chunks)\n",
        "#             cts=cts.items()\n",
        "#             for tag_patten, ct in cts:\n",
        "#                 for term, pattern in fl_chunks:\n",
        "#                     if tag_patten == pattern:\n",
        "#                         cnt+=1\n",
        "#                         table.append((tag_patten, term, ct))\n",
        "#                         break\n",
        "#                 continue\n",
        "#             print(cnt)\n",
        "#             ling_filter[gmr_filter.index(gmr)] = table\n",
        "#             df = pd.DataFrame(table)\n",
        "#             df.sort_values(by=[2], ascending=False,inplace =True)\n",
        "#             print(df[[0,1,2]])\n",
        "#             break\n",
        "# save_list('/content/gdrive/My Drive/ColabObjects/illinois_linguistic.json', ling_filter)"
      ],
      "execution_count": null,
      "outputs": [
        {
          "output_type": "stream",
          "text": [
            "Progress:    100.0%    Doccuments Processed: 10    Token Length: 77750    ETA: 00:00:00    ETA: 00:00:03"
          ],
          "name": "stdout"
        }
      ]
    },
    {
      "cell_type": "markdown",
      "metadata": {
        "id": "V9io9fK5QRO4",
        "colab_type": "text"
      },
      "source": [
        "### *(Not to run ) Chunk Test [Chunks]*"
      ]
    },
    {
      "cell_type": "code",
      "metadata": {
        "id": "1mf8StyprzEI",
        "colab_type": "code",
        "colab": {}
      },
      "source": [
        "#Grammer for chunking\n",
        "Closed = r\"\"\"\n",
        "NP: {<NN.*>+}\n",
        "\"\"\"\n",
        "Open = r\"\"\"\n",
        "NP:     {<NN.*>+<NN.*>}\n",
        "        {(<JJ>|<NN.*>)+(<NN.*>)}\n",
        "        {((<JJ>|<NN.*>)+|((<JJ>|<NN.*>)*(<NN.*><IN>)?)(<JJ>|<NN.*>)*)<NN.*>}\n",
        "\"\"\"\n",
        "\n",
        "Personalized = r\"\"\"\n",
        "NP:     {<NNP>{1,3}<NN?>?} \n",
        "        {(<JJ>|<NN>)<NN?>{1,3}}\n",
        "        {<DT>?<JJ>*<NN>}               \n",
        "        {<DT>?<NN>+}\n",
        "\"\"\"\n",
        "\n",
        "ATR4s = r\"\"\"\n",
        "NP:     {(<NN(S)?>|<JJ>|<NNP>|<NN(S?)><IN>)*(<NN(S)?>)}\n",
        "        #(NN(S)?|JJ|NNP|NN(S?)IN)*(NN(S)?)\n",
        "        \n",
        "\"\"\"\n",
        "\n",
        "NLTK = r\"\"\"\n",
        "NP:     {<DT>?<JJ>*<NN.*>} \n",
        "\"\"\"\n",
        "\n",
        "def extract_np(parsed_sent):\n",
        "  for subtree in parsed_sent.subtrees():\n",
        "    if subtree.label() == 'NP':\n",
        "        # yield ' '.join(word for word, tag in subtree.leaves())\n",
        "        yield (' '.join(word for word, tag in subtree.leaves()), ' '.join(tag for word, tag in subtree.leaves()))\n",
        "\n",
        "def chunker(tagged_sent, grammar, grouped=False):\n",
        "    cp = nltk.RegexpParser(grammar) #loop=2\n",
        "    # print(cp)\n",
        "    if grouped:\n",
        "        parsed_sent = list(map(cp.parse,filter(None,tagged_sent)))\n",
        "        return list(filter(None, map(extract_np,parsed_sent)))\n",
        "    else:\n",
        "        parsed_sent = cp.parse(tagged_sent)\n",
        "        return extract_np(parsed_sent)\n",
        "\n",
        "def term_recon(corpus_dump, grammar):\n",
        "    wt = WhitespaceTokenizer()\n",
        "    for filename in os.listdir(corpus_dump):#sorted(os.listdir(corpus_dump), key=lambda x: int(x))\n",
        "        with open(os.path.join(corpus_dump,filename), 'r') as txt:\n",
        "            sentences = sent_tokenize(txt.read())\n",
        "            tokenized_text=[]\n",
        "            tagged_text=[]\n",
        "            for sent in sentences:\n",
        "                tokenized_text.append(list(filter(None,wd(sent))))\n",
        "            tagged_text = tag_pos(tokenized_text,grouped=True)\n",
        "            chunked_text = [term for term in map(list, chunker(tagged_text, grammar, grouped=True))]\n",
        "            yield chunked_text\n",
        "\n",
        "# for dataset in datasets:\n",
        "#     ling_filter={}\n",
        "#     for gram in gmr_filter:\n",
        "#         corpus_dir = os.path.join('./data/', dataset)\n",
        "#         # corpus_dump = os.path.join(corpus_dir, dataset)\n",
        "#         download_corpus(dataset)\n",
        "#         chunks = atr(dataset, gram)\n",
        "#         ling_filter[gmr_filter.index(gram)] = evaluate(chunks)\n",
        "#     result[dataset]= ling_filter\n",
        "\n",
        "# save_list('/content/gdrive/My Drive/ColabObjects/illinois_linguistic.json', result)"
      ],
      "execution_count": null,
      "outputs": []
    },
    {
      "cell_type": "markdown",
      "metadata": {
        "id": "eYnrYAz-lqwl",
        "colab_type": "text"
      },
      "source": [
        "### *(Not to Run) Plot Tag Statistics*"
      ]
    },
    {
      "cell_type": "code",
      "metadata": {
        "id": "csYoi_5XB6Rz",
        "colab_type": "code",
        "colab": {
          "base_uri": "https://localhost:8080/",
          "height": 747
        },
        "outputId": "b9831680-c7e6-481d-bfe3-6d5a55465e85"
      },
      "source": [
        "fl_chunks=unNest(chunked_para)\n",
        "import math\n",
        "from collections import Counter\n",
        "import numpy as np\n",
        "import matplotlib.pyplot as plt\n",
        "import matplotlib as mpl\n",
        "from operator import itemgetter\n",
        "counts = Counter(tag for word , tag in fl_chunks)\n",
        "counts=counts.items()\n",
        "# print(counts)\n",
        "counts = sorted(counts, key=itemgetter(1), reverse=True)\n",
        "# print(counts)\n",
        "labels, values  = zip(*counts)\n",
        "indexes = np.arange(len(labels))\n",
        "width =1\n",
        "\n",
        "# print(list(map(lambda x:\"{:,}\".format(x),values)))\n",
        "\n",
        "n=plt.bar(indexes, values, width, color='skyblue', edgecolor='black', align = 'center',linewidth=.1)\n",
        "plt.xticks(indexes,labels)\n",
        "plt.yscale('linear')\n",
        "plt.title(\"Candidate Terms Tag Pattern Frequencies in 10K Case Decisions\")\n",
        "plt.xlabel('POS Tags')\n",
        "plt.ylabel('Frequency')\n",
        "plt.tick_params(axis='x')\n",
        "plt.tick_params(axis='y')\n",
        "plt.xticks(rotation = 90)\n",
        "plt.tight_layout\n",
        "plt.axis('tight')\n",
        "plt.margins(0.01, 0.01)\n",
        "plt.style.use('seaborn-whitegrid')\n",
        "# n.yaxis.set_major_formatter(matplotlib.ticker.FuncFormatter(lambda x, p: format(int(x), ',')))\n",
        "# ax2.yaxis.set_major_formatter(mpl.ticker.StrMethodFormatter('{x:,.0f}'))\n",
        "plt.rcParams['figure.dpi'] = 100\n",
        "plt.show()"
      ],
      "execution_count": null,
      "outputs": [
        {
          "output_type": "stream",
          "text": [
            "['1,544,156', '1,123,514', '829,735', '629,428', '317,911', '267,287', '129,127', '128,744', '66,111', '35,635', '24,126', '6,468', '5,724', '3,046']\n"
          ],
          "name": "stdout"
        },
        {
          "output_type": "display_data",
          "data": {
            "image/png": "[encoded data removed]",
            "text/plain": [
              "<Figure size 800x600 with 1 Axes>"
            ]
          },
          "metadata": {
            "tags": []
          }
        }
      ]
    },
    {
      "cell_type": "markdown",
      "metadata": {
        "id": "EhSEKrPei_7z",
        "colab_type": "text"
      },
      "source": [
        "### *(Not to Run) Table for POS patterns*"
      ]
    },
    {
      "cell_type": "code",
      "metadata": {
        "id": "egxBhzyZGU24",
        "colab_type": "code",
        "colab": {}
      },
      "source": [
        "import pandas as pd\n",
        "cnt= 0\n",
        "table=[]\n",
        "for tag_patten, count in counts:\n",
        "    for term, pattern in fl_chunks:\n",
        "        if tag_patten == pattern:\n",
        "            cnt+=1\n",
        "            table.append((tag_patten, term, count))\n",
        "            break\n",
        "    continue\n",
        "print(cnt)\n",
        "pd.DataFrame(table)"
      ],
      "execution_count": null,
      "outputs": []
    },
    {
      "cell_type": "code",
      "metadata": {
        "id": "-i936tOKli6X",
        "colab_type": "code",
        "colab": {}
      },
      "source": [
        "import pandas as pd\n",
        "# df = pd.DataFrame(result)\n",
        "dataset = 'genia'\n",
        "pd.options.display.float_format = '{:,.2f}'.format\n",
        "pd.DataFrame.from_dict({(i,j): result_filter[dataset][i][j] \n",
        "                           for i in result_filter[dataset].keys() \n",
        "                           for j in result_filter[dataset][i].keys()},\n",
        "                       orient='index')"
      ],
      "execution_count": null,
      "outputs": []
    },
    {
      "cell_type": "markdown",
      "metadata": {
        "id": "x1J7lnxmjSOM",
        "colab_type": "text"
      },
      "source": [
        "### *(Not to Run) List term using a pattern*"
      ]
    },
    {
      "cell_type": "code",
      "metadata": {
        "id": "UmTc7bl1ZMA3",
        "colab_type": "code",
        "colab": {}
      },
      "source": [
        "for term, pattern in fl_chunks:\n",
        "    if pattern == 'NN JJ NN':\n",
        "        print(term)\n",
        "        break"
      ],
      "execution_count": null,
      "outputs": []
    },
    {
      "cell_type": "markdown",
      "metadata": {
        "id": "uhXzBbdctI_U",
        "colab_type": "text"
      },
      "source": [
        "## Generator to { tokenize [ data ] —>, tagger [ tokens ], chunker [ tagged text ] } CAP data for ATR"
      ]
    },
    {
      "cell_type": "code",
      "metadata": {
        "id": "TgD1I5iG5y9a",
        "colab_type": "code",
        "colab": {}
      },
      "source": [
        "def linguistic_filter(corpus_file):\n",
        "    count= 0\n",
        "    #Tokanize Data generator\n",
        "    print('process started')\n",
        "    tokenize_data_gen = tokenize_data(corpus_file)\n",
        "    for tokenized_para, tokenized_name in tokenize_data_gen:\n",
        "\n",
        "        #POS- Tagging\n",
        "        tagged_para = tag_pos(tokenized_para,grouped=True)\n",
        "        tagged_name = tag_pos(tokenized_name)\n",
        "\n",
        "        #Chunking\n",
        "        chunked_para=[term for term in map(list, chunker(tagged_para, grouped=True))]\n",
        "        chunked_name=[term for term in chunker(tagged_name)]\n",
        "        # if count%10000==0:\n",
        "        yield chunked_para, chunked_name"
      ],
      "execution_count": null,
      "outputs": []
    },
    {
      "cell_type": "markdown",
      "metadata": {
        "id": "f9VdMIoIMErN",
        "colab_type": "text"
      },
      "source": [
        "## List Creation -  [Terminologies]"
      ]
    },
    {
      "cell_type": "code",
      "metadata": {
        "id": "lsvfAxqCv0DR",
        "colab_type": "code",
        "colab": {
          "base_uri": "https://localhost:8080/",
          "height": 35
        },
        "outputId": "af4c7856-6a31-4c71-ebbf-13eda37e9e45"
      },
      "source": [
        "import sys, os, time\n",
        "length_para=0\n",
        "obj_dir = '/content/gdrive/My Drive/Thesis/data/'\n",
        "list_text_file = os.path.join(obj_dir, 'para_json.txt')\n",
        "if not os.path.isfile(list_text_file):\n",
        "    tm=start_time= time.time()\n",
        "    linguistic_candidates_gen =  linguistic_filter(corpus_file)\n",
        "    count=0\n",
        "    terms_para=[]\n",
        "    terms_name= []\n",
        "    for para, name in linguistic_candidates_gen:\n",
        "        terms_para.append(rem_specialchars(para))\n",
        "        terms_name.append(name)\n",
        "        length_para+=getSizeOfNestedList(para)\n",
        "        count+=1\n",
        "        # if count == 1000:  break\n",
        "        if count%50 == 0: tm=(time.time()-start_time)/count\n",
        "        eta = time.strftime(\"%H:%M:%S\",time.gmtime(tm*(183146-count)))\n",
        "        sys.stdout.write('\\r'+'Progress:    '+'{:.1f}%'.format(count*100/183146)+'    Doccuments Processed: '+str(count)+'    Token Length: '+str(length_para)+'    ETA: '+str(eta))\n",
        "\n",
        "    print('\\nsaving Files')\n",
        "    save_list(list_text_file,terms_para )\n",
        "    # save_list(obj_dir+'para_name.txt',terms_name )\n",
        "    print('Files saved sucessfully')\n",
        "print('List files Available in the Drive')\n",
        "\n",
        "# print('Loading from Drive')\n",
        "terms_para = load_list(list_text_file)\n",
        "# print('Done')"
      ],
      "execution_count": null,
      "outputs": [
        {
          "output_type": "stream",
          "text": [
            "List files Available in the Drive\n"
          ],
          "name": "stdout"
        }
      ]
    },
    {
      "cell_type": "markdown",
      "metadata": {
        "id": "YWemybrLR2YH",
        "colab_type": "text"
      },
      "source": [
        "## Merge all sentence terms from each Doccument(Case Files)"
      ]
    },
    {
      "cell_type": "code",
      "metadata": {
        "id": "DpQYdr5or8hX",
        "colab_type": "code",
        "colab": {}
      },
      "source": [
        "import itertools\n",
        "import functools\n",
        "import operator\n",
        "def flattern(nested_list):\n",
        "    def unNest(nested_list):\n",
        "        ''' recursively flattern nested lists '''\n",
        "        if not (any(isinstance(i, list) for i in nested_list)):\n",
        "            return nested_list\n",
        "        else:\n",
        "            nested_list = functools.reduce(operator.iconcat, nested_list, [])\n",
        "            return unNest(nested_list)\n",
        "\n",
        "    unnested_list=unNest(nested_list)\n",
        "    ln = list(set(unnested_list))\n",
        "    return ln\n",
        "\n",
        "def de_sent(nested_list):\n",
        "    return [list(itertools.chain(*sub)) for sub in nested_list]\n",
        "\n",
        "terms_para = flattern(terms_para)\n",
        "# lt_terms_para=de_sent(terms_para)"
      ],
      "execution_count": null,
      "outputs": []
    },
    {
      "cell_type": "markdown",
      "metadata": {
        "id": "9wXc7xOUluzi",
        "colab_type": "text"
      },
      "source": [
        "## Statistics of Term Occurrences"
      ]
    },
    {
      "cell_type": "markdown",
      "metadata": {
        "id": "q40FAKwjevFa",
        "colab_type": "text"
      },
      "source": [
        "### TF-IDF"
      ]
    },
    {
      "cell_type": "code",
      "metadata": {
        "id": "nk9x2nGYeuqi",
        "colab_type": "code",
        "colab": {}
      },
      "source": [
        "import itertools, time, sys, math\n",
        "import numpy as np   \n",
        "from collections import Counter\n",
        "\n",
        "def create_term_freq(candidates):\n",
        "    def unNest(nested_list):\n",
        "        ''' recursively flattern nested lists '''\n",
        "        if not (any(isinstance(i, list) for i in nested_list)):\n",
        "            return nested_list\n",
        "        else:\n",
        "            nested_list = functools.reduce(operator.iconcat, nested_list, [])\n",
        "            return unNest(nested_list)\n",
        "\n",
        "    unnested_list=unNest(candidates)\n",
        "    Counter(unnested_list)\n",
        "    return dict(Counter(unnested_list))\n",
        "\n",
        "def create_doc_freq(doc_list):\n",
        "    df = {}\n",
        "    N=len(doc_list)\n",
        "    for i in range(N):\n",
        "        tokens = doc_list[i]\n",
        "        # tokens=list(map(lambda x:x.lower(), tokens))             #lower case conversion\n",
        "        for w in tokens:\n",
        "            try:\n",
        "                data_text_file[w].add(i)\n",
        "            except:\n",
        "                df[w] = {i}\n",
        "    for i in df:\n",
        "        df[i] = len(df[i])\n",
        "    return df\n",
        "\n",
        "def get_doc_freq(word, df):\n",
        "    c = 0\n",
        "    try:\n",
        "        c = df[word]\n",
        "    except:\n",
        "        pass\n",
        "    return c\n",
        "\n",
        "def calc_tf_idf(candidates, doc_len, df):\n",
        "    tfidf={}\n",
        "    words_count= len(candidates)                                    #Length of terms\n",
        "    # lower_candidates = list(map(lambda x:x.lower(), candidates))    #lower case conversion\n",
        "    set_candidates=set(candidates)                            #unique candidates \n",
        "    tf = create_term_freq(candidates)                         #term frequency\n",
        "    for term in set_candidates:            \n",
        "        term_freq = tf[term]/words_count\n",
        "        doc_freq = get_doc_freq(term, df)\n",
        "        idf = math.log((doc_len+1)/(doc_freq+1))            \n",
        "        tfidf[term] = term_freq*idf\n",
        "    return tfidf\n",
        "\n",
        "\n",
        "def get_tf_idf(doc_list):\n",
        "    tf_idf={}\n",
        "    count=0\n",
        "    doc_len= N=len(doc_list)\n",
        "    df=create_doc_freq(doc_list)\n",
        "    tm=start_time= time.time()\n",
        "    tf = create_term_freq(doc_list)                         #term frequency\n",
        "    for i in range(N):\n",
        "        tf_idf[i]=calc_tf_idf(doc_list[i], N, df)\n",
        "        count+=1\n",
        "        if count%10 == 0: tm=(time.time()-start_time)/count\n",
        "        eta = time.strftime(\"%H:%M:%S\",time.gmtime(tm*(N-count)))\n",
        "        sys.stdout.write('\\r'+'Progress:    '+'{:.1f}%'.format(count*100/N)+'    Doccuments Processed: '+str(count)+'    ETA: '+str(eta))\n",
        "    return tf_idf\n",
        "\n",
        "\n",
        "def normalize_tfidf(percentage, chunks):\n",
        "    # #Pre fetch TF-IDF\n",
        "    terms = de_sent(chunks)\n",
        "    tf_idf = get_tf_idf(terms)\n",
        "\n",
        "    #normalize over all doccuments\n",
        "    tf_idf_normalise={}\n",
        "    tf_idf_count={}\n",
        "    for idx, doc in tf_idf.items():\n",
        "        for term, val in doc.items():\n",
        "            try:\n",
        "                tf_idf_normalise[term]+=val\n",
        "                tf_idf_count[term]+=1\n",
        "            except:\n",
        "                tf_idf_normalise[term] = val\n",
        "                tf_idf_count[term]=1\n",
        "    for term, val in tf_idf_normalise.items():\n",
        "        tf_idf_normalise[term] = val/tf_idf_count[term]\n",
        "    terms = [(key, val) for key, val in (sorted(tf_idf_normalise.items(), key=lambda x:x[1], reverse=True)[:int(len(tf_idf_normalise) * percentage/100)])]\n",
        "    return terms\n",
        "\n",
        "\n",
        "#Pre fetch TF-IDF\n",
        "# tf_idf = get_tf_idf(lt_terms_para)\n",
        "n_tf_idf = normalize_tfidf(100, terms_para)\n",
        "# df=create_doc_freq(lt_terms_para)\n",
        "# N= len(lt_terms_para)\n",
        "# tf_idf = calc_tf_idf(ft_terms_para,N, df)\n",
        "# print('\\n Process Completed')\n",
        "# save_list('/content/gdrive/My Drive/ColabObjects/tf_idf_json.txt', cval)\n",
        "# print('\\n File Saved')"
      ],
      "execution_count": null,
      "outputs": []
    },
    {
      "cell_type": "code",
      "metadata": {
        "id": "x7-gmX9E0ylw",
        "colab_type": "code",
        "colab": {}
      },
      "source": [
        "import pandas as pd\n",
        "df = pd.DataFrame(n_tf_idf[-30:])\n",
        "df"
      ],
      "execution_count": null,
      "outputs": []
    },
    {
      "cell_type": "markdown",
      "metadata": {
        "id": "ofA5O1coyJEG",
        "colab_type": "text"
      },
      "source": [
        "### Residual IDF"
      ]
    },
    {
      "cell_type": "code",
      "metadata": {
        "id": "1RE-Xk9EyHEk",
        "colab_type": "code",
        "colab": {
          "base_uri": "https://localhost:8080/",
          "height": 35
        },
        "outputId": "49d4e97f-fd94-4394-aeb1-bfa2cbea1351"
      },
      "source": [
        "import math\n",
        "import time\n",
        "import sys\n",
        "def calc_ridf(candidates, df, doc,tf_idf):\n",
        "    ridf_val={}\n",
        "    set_candidates = set(candidates)                                        #unique terms from doc\n",
        "    # set_candidates=set(map(lambda x:x.lower(), st))             #lower case conversion \n",
        "    tf = create_term_freq(set_candidates)   #term frequency\n",
        "    N= len(candidates)                                      #length of candidates\n",
        "    for term in set_candidates:\n",
        "        try:\n",
        "            cand_freq = tf[term]#/N\n",
        "            doc_freq = df[term]\n",
        "            atf=cand_freq/doc_freq\n",
        "            ridf_val[term]=tf_idf[doc][term]+math.log(1-math.exp(-atf))\n",
        "        except:\n",
        "            print('Error occured at: ',term,'   Doc No: ', doc  )\n",
        "    return ridf_val\n",
        "\n",
        "#get r-idf for all doccments\n",
        "def get_ridf(doc_list,tf_idf):\n",
        "    df=create_doc_freq(doc_list)\n",
        "    count=0\n",
        "    N=len(doc_list)\n",
        "    r_idf={}\n",
        "    tm=start_time= time.time()\n",
        "    for i in range(N):\n",
        "        r_idf[i] =calc_ridf(doc_list[i], df, i,tf_idf)\n",
        "        count+=1\n",
        "        if count%100 == 0: tm=(time.time()-start_time)/count\n",
        "        eta = time.strftime(\"%H:%M:%S\",time.gmtime(tm*(N-count)))\n",
        "        sys.stdout.write('\\r'+'Progress:    '+'{:.1f}%'.format(count*100/N)+'    Doccuments Processed: '+str(count)+'    ETA: '+str(eta))\n",
        "    return r_idf\n",
        "\n",
        "def normalize_ridf(percentage, chunks):\n",
        "    # #Pre fetch TF-IDF\n",
        "    terms = de_sent(chunks)\n",
        "    tf_idf = get_tf_idf(terms)\n",
        "    ridf = get_ridf(terms,tf_idf)\n",
        "\n",
        "    #normalize over all doccuments\n",
        "    ridf_normalise={}\n",
        "    ridf_count={}\n",
        "    for idx, doc in ridf.items():\n",
        "        for term, val in doc.items():\n",
        "            try:\n",
        "                ridf_normalise[term]+=val\n",
        "                ridf_count[term]+=1\n",
        "            except:\n",
        "                ridf_normalise[term] = val\n",
        "                ridf_count[term]=1\n",
        "    for term, val in ridf_normalise.items():\n",
        "        ridf_normalise[term] = val/ridf_count[term]\n",
        "    terms = [(key, val) for key, val in (sorted(ridf_normalise.items(), key=lambda x:x[1], reverse=True)[:int(len(ridf_normalise) * percentage/100)])]\n",
        "    return terms\n",
        "\n",
        "# r_idf = get_ridf(lt_terms_para)\n",
        "n_r_idf= normalize_ridf(100, terms_para)\n",
        "# print('\\n Process ATF Completed')\n",
        "# save_list('/content/gdrive/My Drive/ColabObjects/atf_json.txt', cval)\n",
        "# print('\\n File Saved')"
      ],
      "execution_count": null,
      "outputs": [
        {
          "output_type": "stream",
          "text": [
            "Progress:    100.0%    Doccuments Processed: 1000    ETA: 00:00:00"
          ],
          "name": "stdout"
        }
      ]
    },
    {
      "cell_type": "code",
      "metadata": {
        "id": "uq-k2GeQ3xsi",
        "colab_type": "code",
        "colab": {}
      },
      "source": [
        "import pandas as pd\n",
        "df = pd.DataFrame(n_r_idf[-30:])\n",
        "df\n"
      ],
      "execution_count": null,
      "outputs": []
    },
    {
      "cell_type": "markdown",
      "metadata": {
        "id": "1cdNb6N0hyKe",
        "colab_type": "text"
      },
      "source": [
        "### C-NC value"
      ]
    },
    {
      "cell_type": "code",
      "metadata": {
        "id": "yihKAZNUh2Zv",
        "colab_type": "code",
        "colab": {}
      },
      "source": [
        "def create_term_len(candidates):\n",
        "    tl={}\n",
        "    for word in candidates:\n",
        "        tl[word] = len(word.split())    \n",
        "    return tl\n",
        "\n",
        "def n_grams(term,ln, set_candidates):\n",
        "    words=term.split()\n",
        "    subsets=[]\n",
        "    for l in reversed(range(1, ln)):\n",
        "        for k in range(ln-l+1): #k= 0, ln= 4\n",
        "            subsets.append(' '.join(words[k:k+l]))\n",
        "    subs= set(subsets)\n",
        "    substrings=set()\n",
        "    for word in subs:\n",
        "        if word in set_candidates:\n",
        "            substrings.add(word)\n",
        "    return substrings\n",
        "\n",
        "def nest_freq_count(candidates, tl, tf):\n",
        "    nf={}\n",
        "    cf={}\n",
        "    N=len(candidates)\n",
        "    for term in candidates:\n",
        "        \"\"\" update subterms' count if they are part of nested term \"\"\"\n",
        "        substrings = n_grams(term, tl[term], candidates)\n",
        "        if len(substrings)>1:\n",
        "            for word in substrings:\n",
        "                if word in nf:\n",
        "                    nf[word] += tf[term]#/N\n",
        "                    cf[word] +=1\n",
        "                    #if word=='public': print(term, tf[term]); \n",
        "                else:\n",
        "                    nf[word] = tf[term]#/N\n",
        "                    cf[word] =1\n",
        "                    #if word=='public': print(term, tf[term]) \n",
        "    return nf, cf\n",
        "\n",
        "import numpy as np\n",
        "def calc_cval(candidates, alpha=0.1):\n",
        "    c_val={}\n",
        "    N= len(candidates)\n",
        "    #lower_candidates = list(map(lambda x:x.lower(), candidates))#lower case conversion\n",
        "    set_candidates=set(candidates)                        #unique candidates \n",
        "    tf = create_term_freq(candidates)                     #term frequency\n",
        "    tl = create_term_len(set_candidates)                        #term length\n",
        "    nf, cf= nest_freq_count(set_candidates, tl, tf)             #nesting frequency\n",
        "    for term in set_candidates:\n",
        "        term_len = tl[term]\n",
        "        term_freq = tf[term]#/N\n",
        "        if term in nf:          #nested case\n",
        "            c_val[term]=np.log2(term_len+alpha)*(term_freq-(nf[term]/cf[term]))            \n",
        "        else:                   #not nested\n",
        "            c_val[term]=np.log2(term_len+alpha)*term_freq\n",
        "    return c_val\n",
        "\n",
        "#get c-val for all doccments\n",
        "def get_cval(doc_list):\n",
        "    tm=start_time= time.time()\n",
        "    count=0\n",
        "    N=len(doc_list)\n",
        "    cval={}\n",
        "    for i in range(N):\n",
        "        cval[i]=calc_cval(doc_list[i])\n",
        "        count+=1\n",
        "        if count%100 == 0: tm=(time.time()-start_time)/count\n",
        "        eta = time.strftime(\"%H:%M:%S\",time.gmtime(tm*(N-count)))\n",
        "        sys.stdout.write('\\r'+'Progress:    '+'{:.1f}%'.format(count*100/N)+'    Doccuments Processed: '+str(count)+'    ETA: '+str(eta))\n",
        "    return cval\n",
        "\n",
        "\n",
        "def cval_term_pct(percentage, chunks):\n",
        "    ft_terms=unNest(chunks)\n",
        "    cval= calc_cval(ft_terms)\n",
        "    return [(key, val) for key, val in (sorted(cval.items(), key=lambda x:x[1], reverse=True)[:int(len(cval) * percentage/100)])]\n",
        "\n",
        "\n",
        "c_value = cval_term_pct(100, terms_para)\n",
        "#Pre fetch TF-IDF  \n",
        "# cval= get_cval(terms_para)\n",
        "# cval= calc_cval(ft_terms_para)\n",
        "# print('\\n Process Completed')\n",
        "# save_list('/content/gdrive/My Drive/ColabObjects/c_val_json.txt', cval)\n",
        "# print('\\n File Saved')"
      ],
      "execution_count": null,
      "outputs": []
    },
    {
      "cell_type": "code",
      "metadata": {
        "id": "43j5CUqg5AlV",
        "colab_type": "code",
        "colab": {}
      },
      "source": [
        "import pandas as pd\n",
        "pd.options.display.float_format = '{:,.2f}'.format\n",
        "df = pd.DataFrame(c_value[:30])\n",
        "df"
      ],
      "execution_count": null,
      "outputs": []
    },
    {
      "cell_type": "markdown",
      "metadata": {
        "id": "eibvTDhY54Ud",
        "colab_type": "text"
      },
      "source": [
        "### NC-Value"
      ]
    },
    {
      "cell_type": "code",
      "metadata": {
        "id": "GRpAYiu1539g",
        "colab_type": "code",
        "colab": {}
      },
      "source": [
        "import pandas as pd\n",
        "def calc_ncval(chunks):\n",
        "    #Doc as a Window\n",
        "    de_sent_chunks=de_sent(chunks)\n",
        "    from sklearn.feature_extraction.text import CountVectorizer\n",
        "    count_model = CountVectorizer(tokenizer=lambda x:x, preprocessor=lambda x:x) # default unigram model\n",
        "    X = count_model.fit_transform(de_sent_chunks)\n",
        "    Xc = (X.T * X) # this is co-occurrence matrix in sparse csr format\n",
        "    Xc.setdiag(0) # sometimes you want to fill same word cooccurence to 0\n",
        "    # print(Xc.todense()) # print out matrix in dense format\n",
        "    df = pd.DataFrame.sparse.from_spmatrix(Xc,columns=count_model.vocabulary_,index=count_model.vocabulary_)\n",
        "\n",
        "    ft_terms=unNest(chunks)\n",
        "    cval= calc_cval(ft_terms)\n",
        "    #Top 200 terms from NC - Value\n",
        "    ctx_terms = sorted(cval.keys(), key=cval.get, reverse = True)[:200]\n",
        "    weights = pd.Series(index=ctx_terms, data=np.count_nonzero(df.loc[ctx_terms], axis=1)/200)\n",
        "    nc_val = df[ctx_terms].dot(weights)#.sort_values(ascending=False)\n",
        "    c_nc_val={}\n",
        "    for term in nc_val.keys():\n",
        "        c_nc_val[term]=0.8*cval[term]+0.2*nc_val[term]\n",
        "    return c_nc_val\n",
        "\n",
        "def c_nc_val_term_pct(percentage, chunks):\n",
        "    c_nc_val= calc_ncval(chunks)\n",
        "    return sorted(c_nc_val, key=c_nc_val.get, reverse = True)[:int(len(c_nc_val)*percentage/100)]\n",
        "\n",
        "# nc_terms= sorted(c_nc_val, key=c_nc_val.get, reverse = True)[:int(len(c_nc_val)*.5)]\n",
        "c_nc_value = c_nc_val_term_pct(100, terms_para)"
      ],
      "execution_count": null,
      "outputs": []
    },
    {
      "cell_type": "code",
      "metadata": {
        "id": "Y9ZgfOTw6NUa",
        "colab_type": "code",
        "colab": {}
      },
      "source": [
        "import pandas as pd\n",
        "pd.options.display.float_format = '{:,.2f}'.format\n",
        "df = pd.DataFrame(c_nc_value[-30:])\n",
        "df"
      ],
      "execution_count": null,
      "outputs": []
    },
    {
      "cell_type": "markdown",
      "metadata": {
        "id": "LvfEOTRuCAVp",
        "colab_type": "text"
      },
      "source": [
        "### ComboBasic"
      ]
    },
    {
      "cell_type": "code",
      "metadata": {
        "id": "SfVqDXcaALld",
        "colab_type": "code",
        "colab": {}
      },
      "source": [
        "def calc_combo_basic(candidates, alpha=0.75, beta= 0.1):\n",
        "    c_b={}\n",
        "    b={}\n",
        "    set_candidates = set(candidates)                                        #unique terms from doc\n",
        "    # set_candidates=set(map(lambda x:x.lower(), st))             #lower case conversion \n",
        "    tf = create_term_freq(candidates)   #term frequency\n",
        "    tl = create_term_len(set_candidates)                               #term length\n",
        "    nf, cf= nest_freq_count(set_candidates, tl, tf)             #nesting frequency\n",
        "    for term in set_candidates:\n",
        "        cand_superstr= 0\n",
        "        if term in cf: cand_superstr = cf[term]\n",
        "        cand_freq = tf[term]\n",
        "        ln=tl[term]\n",
        "        cand_substr = len(n_grams(term, ln, set_candidates))\n",
        "        b[term] = ln*math.log(cand_freq) + (alpha*cand_superstr)\n",
        "        c_b[term] = b[term] +  (beta*cand_substr)\n",
        "    return c_b, b\n",
        "\n",
        "#get combo-basic for all doccments\n",
        "def get_combo_basic(doc_list):\n",
        "    count=0\n",
        "    N=len(doc_list)\n",
        "    com_basic={}\n",
        "    basic={}\n",
        "    tm=start_time= time.time()\n",
        "    for i in range(N):\n",
        "        com_basic[i], basic[i] = calc_combo_basic(doc_list[i])\n",
        "        count+=1\n",
        "        if count%100 == 0: tm=(time.time()-start_time)/count\n",
        "        eta = time.strftime(\"%H:%M:%S\",time.gmtime(tm*(N-count)))\n",
        "        sys.stdout.write('\\r'+'Progress:    '+'{:.1f}%'.format(count*100/N)+'    Doccuments Processed: '+str(count)+'    ETA: '+str(eta))\n",
        "    return com_basic, basic\n",
        "\n",
        "\n",
        "def combo_basic_term_pct(percentage, chunks):\n",
        "    flat_para = unNest(chunks)\n",
        "    com_basic, basic = calc_combo_basic(flat_para)\n",
        "    return [(key, val) for key, val in (sorted(com_basic.items(), key=lambda x:x[1], reverse=True)[:int(len(com_basic) * percentage/100)])]\n",
        "\n",
        "combo_basic = combo_basic_term_pct(100, terms_para)\n",
        "\n",
        "#com_basic, basic = get_combo_basic(terms_para)\n",
        "# flat_para = flatter(terms_para)\n",
        "# com_basic, basic = calc_combo_basic(ft_terms_para)\n",
        "# print('\\n Process ATF Completed')\n",
        "# save_list('/content/gdrive/My Drive/ColabObjects/com_basic_json.txt', com_basic)\n",
        "# print('\\n File Saved')\n",
        "# stop_words = set(stopwords.words('english'))\n",
        "# flat_para = [word for word in flat_para if word ]#not in stop_words]\n",
        "# com_basic, basic = calc_combo_basic(flat_para)"
      ],
      "execution_count": null,
      "outputs": []
    },
    {
      "cell_type": "code",
      "metadata": {
        "id": "CXK1VNTM3ofX",
        "colab_type": "code",
        "colab": {}
      },
      "source": [
        "import pandas as pd\n",
        "pd.options.display.float_format = '{:,.3f}'.format\n",
        "df = pd.DataFrame(combo_basic[-30:])\n",
        "df"
      ],
      "execution_count": null,
      "outputs": []
    },
    {
      "cell_type": "markdown",
      "metadata": {
        "id": "RRfomKCN6eYw",
        "colab_type": "text"
      },
      "source": [
        "### Fast Text Traning \n",
        "Generate embeddings by training fasttext on the entire cap DataSet "
      ]
    },
    {
      "cell_type": "markdown",
      "metadata": {
        "id": "LL7YBYT9uFcn",
        "colab_type": "text"
      },
      "source": [
        "### Download CAP Data to text file -  For fastText Training"
      ]
    },
    {
      "cell_type": "code",
      "metadata": {
        "id": "t9JQK7h6hwKm",
        "colab_type": "code",
        "colab": {
          "base_uri": "https://localhost:8080/",
          "height": 69
        },
        "outputId": "bf51e0e5-f16a-498d-a444-2ac77518cb41"
      },
      "source": [
        "import lzma, json, os\n",
        "corpus_dir = '/content/gdrive/My Drive/Thesis/data/'\n",
        "data_text_file = os.path.join(corpus_dir, 'illinois_vb.txt')\n",
        "corpus_file = os.path.join(corpus_dir, 'Illinois-20200302-text/data/data.jsonl.xz')\n",
        "\n",
        "def create_data(corpus_file):    \n",
        "    with lzma.open(corpus_file) as in_file:\n",
        "        for line in in_file:\n",
        "            case = json.loads(str(line, 'utf8'))\n",
        "            case_text =''\n",
        "            for opinion in case['casebody']['data']['opinions']:\n",
        "                case_text += opinion['text']\n",
        "            case_name = (case['name'])\n",
        "            yield case_text, case_name\n",
        "\n",
        "def create_text_file(data_text_file):\n",
        "    if not os.path.isfile(data_text_file):\n",
        "        if not os.path.exists(corpus_dir):\n",
        "            os.makedirs(corpus_dir)\n",
        "        print('corpus file:', corpus_file)\n",
        "        create_data_gen = create_data(corpus_file)\n",
        "        with open(data_text_file, 'w+') as f:\n",
        "            i=0\n",
        "            for text, name in create_data_gen:\n",
        "                i+=1\n",
        "                f.write(\"%s\\n\" % name)\n",
        "                f.write(\"%s\\n\" % text)\n",
        "                if i==200000:\n",
        "                    f.close()\n",
        "                    break\n",
        "            print('maxed out')\n",
        "            f.close()\n",
        "            print('File available at:',data_text_file)\n",
        "    print('File not created as it Exists at:',data_text_file)\n",
        "\n",
        "create_text_file(data_text_file)"
      ],
      "execution_count": null,
      "outputs": [
        {
          "output_type": "stream",
          "text": [
            "corpus file: ./data/CAP/Illinois-20200302-text/data/data.jsonl.xz\n",
            "maxed out\n",
            "File available at: ./data/CAP/illinois_vb.txt\n"
          ],
          "name": "stdout"
        }
      ]
    },
    {
      "cell_type": "markdown",
      "metadata": {
        "id": "K9c0SSLDBsya",
        "colab_type": "text"
      },
      "source": [
        "### Preprocess text file to Remove special chareters and stopwords"
      ]
    },
    {
      "cell_type": "code",
      "metadata": {
        "id": "oExjhIIbWX4S",
        "colab_type": "code",
        "colab": {}
      },
      "source": [
        "import os, io, nltk, re, numpy as np\n",
        "corpus_dir = '/content/gdrive/My Drive/Thesis/data/'\n",
        "data_text_file = os.path.join(corpus_dir, 'illinois_vb.txt')\n",
        "\n",
        "def rm_stop_words(data):\n",
        "    stop_words = set(stopwords.words('english'))\n",
        "    words = word_tokenize(str(data))\n",
        "    new_text = \"\"\n",
        "    for w in words:\n",
        "        if  w.lower() not in stop_words and len(w) > 1:\n",
        "            new_text = new_text + \" \" + w\n",
        "    return new_text\n",
        "\n",
        "def rm_punctuation(data):\n",
        "    #symbols =\"!\\\"#$%&()*+/:;<=>?@[\\]^_`”‘“—–‐-−,″{|}~\"\n",
        "    re.sub(r'\\W+', ' ', data)\n",
        "    return data\n",
        "\n",
        "def open_text(file):\n",
        "    with open(file, encoding='utf-8') as f:\n",
        "        for line in f.readlines():\n",
        "            yield line\n",
        "\n",
        "def clean_text(dest_file):\n",
        "    if not os.path.isfile(data_text_file):\n",
        "        create_text_file(data_text_file)\n",
        "    if not os.path.isfile(dest_file):\n",
        "        open_text_gen= open_text(data_text_file)\n",
        "        with open(dest_file, 'w+') as f:\n",
        "            for line in open_text_gen:\n",
        "                text = rm_punctuation(line)\n",
        "                text = rm_stop_words(text)\n",
        "                f.write(\"%s\\n\" % str(text))\n",
        "            f.close()\n",
        "            print('PreProcessed File Available at:', dest_file)\n",
        "\n",
        "            \n",
        "dest_file = os.path.join(corpus_dir,'illinois_prepros.txt')\n",
        "data_text_file = os.path.join(corpus_dir, 'illinois_vb.txt')"
      ],
      "execution_count": null,
      "outputs": []
    },
    {
      "cell_type": "markdown",
      "metadata": {
        "id": "t9JvtISRuvw1",
        "colab_type": "text"
      },
      "source": [
        "### Install fastText using make"
      ]
    },
    {
      "cell_type": "code",
      "metadata": {
        "id": "V6D42bLxADDR",
        "colab_type": "code",
        "colab": {}
      },
      "source": [
        "!wget https://github.com/facebookresearch/fastText/archive/v0.9.2.zip\n",
        "!unzip v0.9.2.zip\n",
        "%cd \"fastText-0.9.2\"\n",
        "%pwd\n",
        "!make\n",
        "%cd ..\n",
        "!rm \"v0.9.2.zip\"\n",
        "%mkdir \"data/models\"\n",
        "%pwd\n",
        "print(\"Verify fastext install\")\n",
        "!./fastText-0.9.2/fasttext"
      ],
      "execution_count": null,
      "outputs": []
    },
    {
      "cell_type": "markdown",
      "metadata": {
        "id": "8HqqEKFNuokL",
        "colab_type": "text"
      },
      "source": [
        "## Install fastText using pip"
      ]
    },
    {
      "cell_type": "code",
      "metadata": {
        "id": "sNEPRZASffbU",
        "colab_type": "code",
        "colab": {
          "base_uri": "https://localhost:8080/",
          "height": 121
        },
        "outputId": "dd395313-f4b3-4bd8-fa9f-a6326411d01a"
      },
      "source": [
        "!git clone https://github.com/facebookresearch/fastText.git\n",
        "!pip install -q fastText/."
      ],
      "execution_count": null,
      "outputs": [
        {
          "output_type": "stream",
          "text": [
            "Cloning into 'fastText'...\n",
            "remote: Enumerating objects: 3840, done.\u001b[K\n",
            "remote: Total 3840 (delta 0), reused 0 (delta 0), pack-reused 3840\u001b[K\n",
            "Receiving objects: 100% (3840/3840), 8.21 MiB | 32.34 MiB/s, done.\n",
            "Resolving deltas: 100% (2413/2413), done.\n",
            "  Building wheel for fasttext (setup.py) ... \u001b[?25l\u001b[?25hdone\n"
          ],
          "name": "stdout"
        }
      ]
    },
    {
      "cell_type": "markdown",
      "metadata": {
        "id": "Pr1K_acJx7Jl",
        "colab_type": "text"
      },
      "source": [
        "### Train FastText on the CAP text file and store data to gdrive"
      ]
    },
    {
      "cell_type": "code",
      "metadata": {
        "id": "rFVvDpAYOORw",
        "colab_type": "code",
        "colab": {
          "base_uri": "https://localhost:8080/",
          "height": 119
        },
        "outputId": "27f30e74-fe8d-4c64-94c3-fa1b12de3c1d"
      },
      "source": [
        "!./fastText-0.9.2/fasttext skipgram -epoch 25 -input '/content/gdrive/My Drive/Thesis/data/illinois_vb.txt' -output '/content/gdrive/My Drive/EmbeddingModels/ft_model_25'"
      ],
      "execution_count": null,
      "outputs": [
        {
          "output_type": "stream",
          "text": [
            "Read 350M words\n",
            "Number of words:  457663\n",
            "Number of labels: 0\n",
            "Progress:  17.5% words/sec/thread:   10629 lr:  0.041261 avg.loss:  0.350837 ETA:  15h43m54s"
          ],
          "name": "stdout"
        }
      ]
    },
    {
      "cell_type": "markdown",
      "metadata": {
        "id": "fgDTqME2y4So",
        "colab_type": "text"
      },
      "source": [
        "### Download and Load  pre trained wikipedia fastText vectors "
      ]
    },
    {
      "cell_type": "code",
      "metadata": {
        "id": "fLN-QDPBWpLq",
        "colab_type": "code",
        "colab": {}
      },
      "source": [
        "#!wget -P /content/data/cache https://dl.fbaipublicfiles.com/fasttext/vectors-wiki/wiki.en.zip\n",
        "model_dir = './data/model/'\n",
        "data_cache = './data/cache'\n",
        "model_file = '/content/gdrive/My Drive/EmbeddingModels/wiki.en.100.bin'\n",
        "if not os.path.isfile(model_file):\n",
        "    if not os.path.exists(model_dir):\n",
        "        os.makedirs(model_dir)\n",
        "\n",
        "    model_zip = 'wiki.en.zip'\n",
        "    download_url = 'https://dl.fbaipublicfiles.com/fasttext/vectors-wiki/' + model_zip \n",
        "    \n",
        "    if not os.path.exists(data_cache):\n",
        "        os.makedirs(data_cache)\n",
        "    \n",
        "    import shutil, requests\n",
        "\n",
        "    zipfilepath = os.path.join(data_cache, model_zip)\n",
        "    if not os.path.isfile( zipfilepath ):\n",
        "        response = requests.get(download_url, stream=True)\n",
        "        with open(zipfilepath, 'wb') as out_file:\n",
        "            shutil.copyfileobj(response.raw, out_file)\n",
        "    import zipfile\n",
        "    with zipfile.ZipFile(zipfilepath, 'r') as zip_ref:\n",
        "        zip_ref.extractall(model_dir)\n",
        "    # Get rid of zipfilepath source (the required text file itself will remain)\n",
        "        os.unlink(zipfilepath)\n",
        "print(\"Model available locally\")\n",
        "\n",
        "import fasttext\n",
        "import fasttext.util\n",
        "model = fasttext.load_model('/content/gdrive/My Drive/EmbeddingModels/wiki.en.100.bin')\n",
        "fasttext.util.reduce_model(model, 100)\n",
        "model.get_dimension()"
      ],
      "execution_count": null,
      "outputs": []
    },
    {
      "cell_type": "code",
      "metadata": {
        "id": "p2tPp3RBl11l",
        "colab_type": "code",
        "colab": {
          "base_uri": "https://localhost:8080/",
          "height": 260
        },
        "outputId": "235fdf79-71d0-4b8c-9736-a2f2c75ae66c"
      },
      "source": [
        "!wget -P /content/data/cache https://dl.fbaipublicfiles.com/fasttext/vectors-wiki/wiki.en.zip\n",
        "!mkdir '/content/data/model/'\n",
        "!unzip '/content/data/cache/wiki.en.zip' -d '/content/data/model/'\n",
        "# !./fastText/reduce_model.py '/content/data/model/wiki.en.bin' 100"
      ],
      "execution_count": null,
      "outputs": [
        {
          "output_type": "stream",
          "text": [
            "--2020-06-29 15:46:04--  https://dl.fbaipublicfiles.com/fasttext/vectors-wiki/wiki.en.zip\n",
            "Resolving dl.fbaipublicfiles.com (dl.fbaipublicfiles.com)... 104.22.74.142, 104.22.75.142, 172.67.9.4, ...\n",
            "Connecting to dl.fbaipublicfiles.com (dl.fbaipublicfiles.com)|104.22.74.142|:443... connected.\n",
            "HTTP request sent, awaiting response... 200 OK\n",
            "Length: 10356881291 (9.6G) [application/zip]\n",
            "Saving to: ‘/content/data/cache/wiki.en.zip’\n",
            "\n",
            "wiki.en.zip         100%[===================>]   9.65G  21.1MB/s    in 7m 44s  \n",
            "\n",
            "2020-06-29 15:53:49 (21.3 MB/s) - ‘/content/data/cache/wiki.en.zip’ saved [10356881291/10356881291]\n",
            "\n",
            "Archive:  /content/data/cache/wiki.en.zip\n",
            "  inflating: /content/data/model/wiki.en.vec  \n",
            "  inflating: /content/data/model/wiki.en.bin  \n"
          ],
          "name": "stdout"
        }
      ]
    },
    {
      "cell_type": "code",
      "metadata": {
        "id": "hsCEf7vCl-G3",
        "colab_type": "code",
        "colab": {}
      },
      "source": [
        "import fasttext\n",
        "model = fasttext.load_model('/content/gdrive/My Drive/EmbeddingModels/wiki.en.100.bin')"
      ],
      "execution_count": null,
      "outputs": []
    },
    {
      "cell_type": "code",
      "metadata": {
        "id": "SKGZ7QnZSzqW",
        "colab_type": "code",
        "colab": {
          "base_uri": "https://localhost:8080/",
          "height": 35
        },
        "outputId": "0113b8eb-eb7f-4bc6-831f-e18777067663"
      },
      "source": [
        "import fasttext.util\n",
        "fasttext.util.reduce_model(model, 100)\n",
        "print(model.get_dimension())\n",
        "model.save_model('/content/data/model/wiki.en.100.bin')"
      ],
      "execution_count": null,
      "outputs": [
        {
          "output_type": "stream",
          "text": [
            "100\n"
          ],
          "name": "stdout"
        }
      ]
    },
    {
      "cell_type": "markdown",
      "metadata": {
        "id": "lgTgb6q7zVaj",
        "colab_type": "text"
      },
      "source": [
        "## Load FastText trained Model"
      ]
    },
    {
      "cell_type": "code",
      "metadata": {
        "id": "-PhxODTS-mW4",
        "colab_type": "code",
        "colab": {}
      },
      "source": [
        "import fasttext\n",
        "model = fasttext.load_model('/content/gdrive/My Drive/EmbeddingModels/ft_model.bin')"
      ],
      "execution_count": null,
      "outputs": []
    },
    {
      "cell_type": "markdown",
      "metadata": {
        "id": "zS6g2qhH0XLo",
        "colab_type": "text"
      },
      "source": [
        "## Flattern the list of Recognized Terms"
      ]
    },
    {
      "cell_type": "code",
      "metadata": {
        "id": "a3SLpC9_saUX",
        "colab_type": "code",
        "colab": {}
      },
      "source": [
        "import functools\n",
        "import operator\n",
        "\n",
        "import numpy as np\n",
        "import re\n",
        "def rem_nonword(lst):\n",
        "    pattern = re.compile(r'\\W+')\n",
        "    return [item for item in lst if pattern.match(item)] \n",
        "\n",
        "def flatter(nested_list):\n",
        "    ''' recursively flattern nested lists '''\n",
        "    if not (any(isinstance(i, list) for i in nested_list)):\n",
        "        return nested_list\n",
        "    else:\n",
        "        nested_list = functools.reduce(operator.iconcat, nested_list, [])\n",
        "        return flatter(nested_list)\n",
        "\n",
        "terms_para=flatter(terms_para)\n",
        "terms_para = list(set(terms_para))"
      ],
      "execution_count": null,
      "outputs": []
    },
    {
      "cell_type": "markdown",
      "metadata": {
        "id": "Lz0L4zU50gVV",
        "colab_type": "text"
      },
      "source": [
        "## Get embeddings for the terms using fastText Model"
      ]
    },
    {
      "cell_type": "markdown",
      "metadata": {
        "id": "P5xaPOUuD6RG",
        "colab_type": "text"
      },
      "source": [
        "### Using character n-grams"
      ]
    },
    {
      "cell_type": "code",
      "metadata": {
        "id": "0F0x3u2_BeHS",
        "colab_type": "code",
        "colab": {
          "base_uri": "https://localhost:8080/",
          "height": 35
        },
        "outputId": "136e9c66-0fbd-425e-82a5-48dcd8716638"
      },
      "source": [
        "import numpy as np\n",
        "words_vec= np.array([model.get_word_vector(x) for x in terms_para])\n",
        "idx_words= dict(enumerate(terms_para))\n",
        "words_idx = dict(zip(idx_words.values(),idx_words.keys()))\n",
        "words_vec.shape"
      ],
      "execution_count": null,
      "outputs": [
        {
          "output_type": "execute_result",
          "data": {
            "text/plain": [
              "(3652320, 100)"
            ]
          },
          "metadata": {
            "tags": []
          },
          "execution_count": 13
        }
      ]
    },
    {
      "cell_type": "markdown",
      "metadata": {
        "id": "9icJQquXEF25",
        "colab_type": "text"
      },
      "source": [
        "### By combining indiviual tokens"
      ]
    },
    {
      "cell_type": "code",
      "metadata": {
        "id": "nKUJn9IjEGQW",
        "colab_type": "code",
        "colab": {
          "base_uri": "https://localhost:8080/",
          "height": 35
        },
        "outputId": "9d3b7479-bf23-43e6-e804-3a9f594ad596"
      },
      "source": [
        "words_vec= np.array([np.array([model.get_word_vector(w) for w in x.split()]).sum(axis =0) for x in terms_para ])\n",
        "idx_words= dict(enumerate(terms_para))\n",
        "words_idx = dict(zip(idx_words.values(),idx_words.keys()))\n",
        "words_vec.shape"
      ],
      "execution_count": null,
      "outputs": [
        {
          "output_type": "execute_result",
          "data": {
            "text/plain": [
              "(3652320, 100)"
            ]
          },
          "metadata": {
            "tags": []
          },
          "execution_count": 14
        }
      ]
    },
    {
      "cell_type": "markdown",
      "metadata": {
        "id": "5i21lG9t08SC",
        "colab_type": "text"
      },
      "source": [
        "## Cosine Similarity between vector and matrix"
      ]
    },
    {
      "cell_type": "code",
      "metadata": {
        "id": "LydmDUSQ-YPM",
        "colab_type": "code",
        "colab": {}
      },
      "source": [
        "def cosine_sim(A,B):\n",
        "    return np.divide(B.dot(A),np.multiply(np.linalg.norm(A),np.linalg.norm(B, axis=1)))"
      ],
      "execution_count": null,
      "outputs": []
    },
    {
      "cell_type": "markdown",
      "metadata": {
        "id": "BkR4LQo01JhV",
        "colab_type": "text"
      },
      "source": [
        "### Function for semantically related Terms"
      ]
    },
    {
      "cell_type": "code",
      "metadata": {
        "id": "C0asL1_hOPS9",
        "colab_type": "code",
        "colab": {}
      },
      "source": [
        "def get_similar_terms(term, N =30):\n",
        "    if term not in words_idx.keys():\n",
        "        ov_vec = model.get_word_vector(term)\n",
        "        sim_mat = cosine_sim(ov_vec,words_vec)\n",
        "    else:\n",
        "        id= words_idx[term]\n",
        "        sim_mat = cosine_sim(words_vec[id],words_vec)\n",
        "    return [(idx_words[n], sim_mat[n]) for n in list(np.argsort(-1*sim_mat)[:N])]"
      ],
      "execution_count": null,
      "outputs": []
    },
    {
      "cell_type": "markdown",
      "metadata": {
        "id": "WhgsT4yc_8ps",
        "colab_type": "text"
      },
      "source": [
        "## Interesting Findings"
      ]
    },
    {
      "cell_type": "code",
      "metadata": {
        "id": "po8um58gp7Q2",
        "colab_type": "code",
        "colab": {
          "base_uri": "https://localhost:8080/",
          "height": 537
        },
        "outputId": "dc411987-ed33-464f-cc44-cdb86d842247"
      },
      "source": [
        "get_similar_terms('india')"
      ],
      "execution_count": null,
      "outputs": [
        {
          "output_type": "execute_result",
          "data": {
            "text/plain": [
              "[('india rubber', 0.7100314),\n",
              " ('Dindia', 0.69413203),\n",
              " ('trichina', 0.6936052),\n",
              " ('beserk', 0.66912293),\n",
              " ('the dia', 0.6578055),\n",
              " ('contz-ol', 0.65780413),\n",
              " ('ex gratia', 0.65769255),\n",
              " ('gratia', 0.6544252),\n",
              " ('indietm nt', 0.6525573),\n",
              " ('intei%st', 0.6500038),\n",
              " ('muer', 0.6476711),\n",
              " ('strange fire', 0.63897234),\n",
              " ('cattie', 0.6373937),\n",
              " ('deus ex machina', 0.63727397),\n",
              " ('small iron vessel', 0.63667923),\n",
              " ('devsie', 0.6339826),\n",
              " ('sinca', 0.6317662),\n",
              " ('the mala', 0.6316062),\n",
              " ('another that.in', 0.6314395),\n",
              " ('coah', 0.63014907),\n",
              " ('mini van', 0.63005334),\n",
              " ('another arena', 0.62941366),\n",
              " ('indis', 0.62939316),\n",
              " ('part collie', 0.62935185),\n",
              " ('sugg', 0.62872505),\n",
              " ('the trichina', 0.6286613),\n",
              " ('couusel', 0.62812585),\n",
              " ('mere organ', 0.62652254),\n",
              " ('coopus', 0.62637657),\n",
              " ('another doggie', 0.62570506)]"
            ]
          },
          "metadata": {
            "tags": []
          },
          "execution_count": 16
        }
      ]
    },
    {
      "cell_type": "code",
      "metadata": {
        "id": "ZmWh7_d7cFNR",
        "colab_type": "code",
        "colab": {}
      },
      "source": [
        "import pandas as pd\n",
        "pd.options.display.float_format = '{:,.3f}'.format\n",
        "df = pd.DataFrame(get_similar_terms('Narcotics'))\n",
        "df"
      ],
      "execution_count": null,
      "outputs": []
    },
    {
      "cell_type": "code",
      "metadata": {
        "id": "jcqWp9EhpHNJ",
        "colab_type": "code",
        "colab": {
          "base_uri": "https://localhost:8080/",
          "height": 537
        },
        "outputId": "1e6b027f-7953-4a95-9fe3-cdca1235dcc2"
      },
      "source": [
        "get_similar_terms('Weapons')"
      ],
      "execution_count": null,
      "outputs": [
        {
          "output_type": "execute_result",
          "data": {
            "text/plain": [
              "[('Weapons', 1.0000001),\n",
              " ('Weapons Ban', 0.96883994),\n",
              " ('Weapons Rev', 0.9467993),\n",
              " ('Weapons Case', 0.9357501),\n",
              " ('Weapons Ill Rev', 0.9350341),\n",
              " ('Weapons Class', 0.9327926),\n",
              " ('Deadly Weapons act', 0.92427087),\n",
              " ('Weapon', 0.9236434),\n",
              " ('Deadly Weapons Act', 0.9185476),\n",
              " ('Weapons’', 0.9061108),\n",
              " ('Weapons A person', 0.88615143),\n",
              " ('Weapons Control Act', 0.8852203),\n",
              " ('Weapons Ban County', 0.88389504),\n",
              " ('Weapons Statute', 0.86911917),\n",
              " ('Weapons Firing Range', 0.86910546),\n",
              " ('Weapon Beyond', 0.8687451),\n",
              " ('Deadly Weapon Act', 0.8674438),\n",
              " ('Weapons statute', 0.86687773),\n",
              " ('Deadly Weapon act', 0.8657105),\n",
              " ('Deadly Weapon', 0.8620362),\n",
              " ('Weapon Against K.H', 0.86153305),\n",
              " ('Offense Charged Unlawful sale', 0.85028094),\n",
              " ('Weapons Rev Stats', 0.8499372),\n",
              " ('Weapons provision', 0.84285516),\n",
              " ('Weapons Dealer Control', 0.84263676),\n",
              " ('Weapons Into Evidence', 0.83959484),\n",
              " ('Unlawful Use', 0.8343645),\n",
              " ('Weapon Chapter', 0.8321867),\n",
              " ('Misdemeanor Unlawful Use', 0.82881457),\n",
              " ('Unlawful Entry Miller v', 0.8251448)]"
            ]
          },
          "metadata": {
            "tags": []
          },
          "execution_count": 36
        }
      ]
    },
    {
      "cell_type": "markdown",
      "metadata": {
        "id": "Zu9RqW-qx2z7",
        "colab_type": "text"
      },
      "source": [
        "## Terms Belonging to a Context\n",
        "Get terms belonging to a subject of interest\n",
        "\n",
        "Methodology used:\n",
        " \n",
        "\n",
        "*   Get the hyponym information for query term from external knowledge source\n",
        "*   Get word vectors for hyponyms all the query terms \n",
        "\n",
        "\n",
        "*   mean the word vectors and find the resultant of the similarity between the vector and terminologies\n",
        "*   list related terms\n",
        "\n",
        "\n",
        "\n",
        "\n",
        "\n",
        "\n",
        "\n"
      ]
    },
    {
      "cell_type": "code",
      "metadata": {
        "id": "foO4HMztsJ4v",
        "colab_type": "code",
        "colab": {
          "base_uri": "https://localhost:8080/",
          "height": 69
        },
        "outputId": "35624a5f-12e6-4558-843f-e417b0c4b0d0"
      },
      "source": [
        "from nltk.corpus import wordnet as wn\n",
        "import nltk\n",
        "import numpy as np\n",
        "nltk.download('wordnet')"
      ],
      "execution_count": null,
      "outputs": [
        {
          "output_type": "stream",
          "text": [
            "[nltk_data] Downloading package wordnet to /root/nltk_data...\n",
            "[nltk_data]   Unzipping corpora/wordnet.zip.\n"
          ],
          "name": "stderr"
        },
        {
          "output_type": "execute_result",
          "data": {
            "text/plain": [
              "True"
            ]
          },
          "metadata": {
            "tags": []
          },
          "execution_count": 17
        }
      ]
    },
    {
      "cell_type": "code",
      "metadata": {
        "id": "YdK_cQWr0AxI",
        "colab_type": "code",
        "colab": {
          "base_uri": "https://localhost:8080/",
          "height": 35
        },
        "outputId": "98e47880-b0fc-4de8-9291-50d2acf8d11e"
      },
      "source": [
        "#Get Embedding for wordnet words\n",
        "wordnet_vec= np.array([model.get_word_vector(x) for x in wn.all_lemma_names()])\n",
        "idx_wordnet= dict(enumerate(wn.all_lemma_names()))\n",
        "wordnet_idx = dict(zip(idx_wordnet.values(),idx_wordnet.keys()))\n",
        "wordnet_vec.shape"
      ],
      "execution_count": null,
      "outputs": [
        {
          "output_type": "execute_result",
          "data": {
            "text/plain": [
              "(147306, 100)"
            ]
          },
          "metadata": {
            "tags": []
          },
          "execution_count": 11
        }
      ]
    },
    {
      "cell_type": "code",
      "metadata": {
        "id": "kqukbEQj0Sbc",
        "colab_type": "code",
        "colab": {}
      },
      "source": [
        "def getLemmas(word):\n",
        "    synonyms = []\n",
        "    for syn in wn.synsets(word):\n",
        "        # for l in syn.lemma_names():\n",
        "        #     synonyms.append(l)\n",
        "        for h in syn.hyponyms():\n",
        "            for l in h.lemma_names():\n",
        "                synonyms.append(l)\n",
        "    return list(set(synonyms))\n",
        "\n",
        "def get_hypo_vectors(word):\n",
        "    hypo_list = getLemmas(word)\n",
        "    if len(hypo_list) ==0:\n",
        "        ov_vector = model.get_word_vector(word) \n",
        "        sim_mat = cosine_sim(ov_vector,wordnet_vec)\n",
        "        hypo_vec = np.array(wordnet_vec[np.argsort(-1*sim_mat)[:10]].mean(axis=0)).reshape(100,-1).T\n",
        "    else:\n",
        "        hypo_vec= np.array([model.get_word_vector(x) for x in hypo_list])\n",
        "    return hypo_vec\n",
        "\n",
        "def get_contextual_terms(term, N =30):\n",
        "    hypo_vec = get_hypo_vectors(term)\n",
        "    sim_mat = cosine_sim(hypo_vec.mean(axis=0),words_vec )\n",
        "    return [(idx_words[n], sim_mat[n]) for n in list(np.argsort(-1*sim_mat)[:N])]"
      ],
      "execution_count": null,
      "outputs": []
    },
    {
      "cell_type": "code",
      "metadata": {
        "id": "gtOxyvW_H081",
        "colab_type": "code",
        "colab": {}
      },
      "source": [
        "def getLemmas(word):\n",
        "    synonyms = []\n",
        "    for syn in wn.synsets(word):\n",
        "        for h in syn.hypernyms():\n",
        "            for l in h.lemma_names():\n",
        "                synonyms.append(l)\n",
        "    return list(set(synonyms))"
      ],
      "execution_count": null,
      "outputs": []
    },
    {
      "cell_type": "code",
      "metadata": {
        "id": "uo8UDVxgp9Sk",
        "colab_type": "code",
        "colab": {
          "base_uri": "https://localhost:8080/",
          "height": 537
        },
        "outputId": "37201dd3-90e7-4b8b-dca7-60636fc4a13f"
      },
      "source": [
        "get_contextual_terms('Weapons')"
      ],
      "execution_count": null,
      "outputs": [
        {
          "output_type": "execute_result",
          "data": {
            "text/plain": [
              "[('suasion', 0.9265278),\n",
              " ('the suasion', 0.9158599),\n",
              " ('undue persuasion', 0.910677),\n",
              " ('mere persuasion', 0.9020379),\n",
              " ('no persuasion', 0.9002233),\n",
              " ('any persuasion', 0.90016466),\n",
              " ('persuasion', 0.8979848),\n",
              " ('the persuasion', 0.89773023),\n",
              " ('real persuasion', 0.89484096),\n",
              " ('all persuasion', 0.89434797),\n",
              " ('a persuasion', 0.89138794),\n",
              " ('some persuasion', 0.8899184),\n",
              " ('both persuasion', 0.8864234),\n",
              " ('term persuasion', 0.8829872),\n",
              " ('Mere persuasion', 0.8824194),\n",
              " ('pursuasion', 0.88240844),\n",
              " ('Such persuasion', 0.87335646),\n",
              " ('such suasion', 0.87126917),\n",
              " ('persuasion duress', 0.87090963),\n",
              " ('that persuasion', 0.8696506),\n",
              " ('such persuasion', 0.86923826),\n",
              " ('particular persuasion', 0.867236),\n",
              " ('further persuasion', 0.86627805),\n",
              " ('dissuasion', 0.86577505),\n",
              " ('persuasion ap', 0.86573917),\n",
              " ('simple persuasion', 0.86442035),\n",
              " ('strong persuasion', 0.8608404),\n",
              " ('persuasion force', 0.86059004),\n",
              " ('lawful persuasion', 0.85960597),\n",
              " ('fair persuasion', 0.8561483)]"
            ]
          },
          "metadata": {
            "tags": []
          },
          "execution_count": 20
        }
      ]
    },
    {
      "cell_type": "code",
      "metadata": {
        "id": "jEvq0K7SDgqB",
        "colab_type": "code",
        "colab": {}
      },
      "source": [
        "# get_contextual_terms('Weapons')\n",
        "df = pd.DataFrame(get_contextual_terms('Weapons'))\n",
        "df"
      ],
      "execution_count": null,
      "outputs": []
    },
    {
      "cell_type": "code",
      "metadata": {
        "id": "SLW0_O34KYqa",
        "colab_type": "code",
        "colab": {
          "base_uri": "https://localhost:8080/",
          "height": 52
        },
        "outputId": "cba8896f-807e-40d6-8793-c0348599a30f"
      },
      "source": [
        "#Class for related terms search\n",
        "import numpy as np\n",
        "import functools\n",
        "from functools import reduce\n",
        "import operator\n",
        "from nltk.corpus import wordnet as wn\n",
        "import nltk\n",
        "nltk.download('wordnet')\n",
        "\n",
        "class Term2Vec:\n",
        "\n",
        "    def __init__(self, name):\n",
        "        self.name = name\n",
        "        \n",
        "    def fit(self, model, terms, tokenwise = False):\n",
        "        def unNest(terms):\n",
        "            ''' recursively flattern nested lists '''\n",
        "            if not (any(isinstance(i, list) for i in terms)):\n",
        "                return terms\n",
        "            else:\n",
        "                terms = functools.reduce(operator.iconcat, terms, [])\n",
        "                return unNest(terms)\n",
        "        self.model = model\n",
        "        self.terms = list(set(unNest(terms)))\n",
        "        if not tokenwise:\n",
        "            self.term_vec= np.array([model.get_word_vector(x) for x in self.terms])\n",
        "            self.idx_words= dict(enumerate(self.terms))\n",
        "            self.words_idx = dict(zip(self.idx_words.values(),self.idx_words.keys()))\n",
        "        else:\n",
        "            self.term_vec = np.array([np.array([model.get_word_vector(w) for w in x.split()]).sum(axis =0) for x in self.terms])\n",
        "        return self\n",
        "\n",
        "    def get_vec(self, term):\n",
        "        return self.term_vec[term]\n",
        "\n",
        "    def cosine_sim(self, A,B):\n",
        "        return np.divide(B.dot(A),np.multiply(np.linalg.norm(A),np.linalg.norm(B, axis=1)))  \n",
        "\n",
        "    def get_similar_terms(self, term, N=10):\n",
        "        if term not in self.words_idx.keys():\n",
        "            ov_vec = self.model.get_word_vector(term)\n",
        "            sim_mat = self.cosine_sim(ov_vec,self.term_vec)\n",
        "        else:\n",
        "            id= self.words_idx[term]\n",
        "            sim_mat = self.cosine_sim(self.term_vec[id],self.term_vec)\n",
        "        return [(self.idx_words[n], sim_mat[n]) for n in list(np.argsort(-1*sim_mat)[:N])]\n",
        "\n",
        "    def get_contextual_terms(self, term, N=10):\n",
        "        #Get Embedding for wordnet words\n",
        "        wordnet_vec= np.array([self.model.get_word_vector(x) for x in wn.all_lemma_names()])\n",
        "        idx_wordnet= dict(enumerate(wn.all_lemma_names()))\n",
        "        wordnet_idx = dict(zip(idx_wordnet.values(),idx_wordnet.keys()))\n",
        "        wordnet_vec.shape\n",
        "\n",
        "        def getLemmas(word):\n",
        "            synonyms = []\n",
        "            for syn in wn.synsets(word):\n",
        "                for h in syn.hyponyms():\n",
        "                    for l in h.lemma_names():\n",
        "                        synonyms.append(l)\n",
        "            return list(set(synonyms))\n",
        "\n",
        "        def get_hypo_vectors(self, word):\n",
        "            hypo_list = getLemmas(word)\n",
        "            if len(hypo_list) ==0:\n",
        "                ov_vector = self.model.get_word_vector(word) \n",
        "                sim_mat = self.cosine_sim(ov_vector,wordnet_vec)\n",
        "                hypo_vec = np.array(wordnet_vec[np.argsort(-1*sim_mat)[:10]].mean(axis=0)).reshape(100,-1).T\n",
        "            else:\n",
        "                hypo_vec= np.array([self.model.get_word_vector(x) for x in hypo_list])\n",
        "            return hypo_vec\n",
        "\n",
        "        hypo_vec = get_hypo_vectors(self, term)\n",
        "        sim_mat = self.cosine_sim(hypo_vec.mean(axis=0),self.term_vec)\n",
        "        return [(self.idx_words[n], sim_mat[n]) for n in list(np.argsort(-1*sim_mat)[:N])]\n",
        "\n",
        "    def get_contextual_subjects(self,term,N=10):\n",
        "        def getLemmas(word):\n",
        "            synonyms = []\n",
        "            for syn in wn.synsets(word):\n",
        "                for h in syn.hypernyms():\n",
        "                    for l in h.lemma_names():\n",
        "                        synonyms.append(l)\n",
        "            return list(set(synonyms))\n",
        "\n",
        "        def get_hyper_vectors(self, word):\n",
        "            hyper_list = getLemmas(word)\n",
        "            hyper_vec= np.array([self.model.get_word_vector(x) for x in hyper_list])\n",
        "            return hyper_vec\n",
        "        \n",
        "        hyper_vec = get_hyper_vectors(self, term)\n",
        "        sim_mat = self.cosine_sim(hyper_vec.mean(axis=0),self.term_vec)\n",
        "        return [(self.idx_words[n], sim_mat[n]) for n in list(np.argsort(-1*sim_mat)[:N])]"
      ],
      "execution_count": null,
      "outputs": [
        {
          "output_type": "stream",
          "text": [
            "[nltk_data] Downloading package wordnet to /root/nltk_data...\n",
            "[nltk_data]   Package wordnet is already up-to-date!\n"
          ],
          "name": "stderr"
        }
      ]
    },
    {
      "cell_type": "code",
      "metadata": {
        "id": "DP1Tvbaofx_O",
        "colab_type": "code",
        "colab": {}
      },
      "source": [
        "illT2V = Term2Vec('illinois')"
      ],
      "execution_count": null,
      "outputs": []
    },
    {
      "cell_type": "code",
      "metadata": {
        "id": "4awUYwVaf9N0",
        "colab_type": "code",
        "colab": {}
      },
      "source": [
        "mdl = illT2V.fit(model, terms_para)"
      ],
      "execution_count": null,
      "outputs": []
    },
    {
      "cell_type": "code",
      "metadata": {
        "id": "UmwHDRI3mhoV",
        "colab_type": "code",
        "colab": {
          "base_uri": "https://localhost:8080/",
          "height": 191
        },
        "outputId": "31efe5ae-b775-4599-d5cc-f8e4ed25b79d"
      },
      "source": [
        "illT2V.get_contextual_terms('india')"
      ],
      "execution_count": null,
      "outputs": [
        {
          "output_type": "execute_result",
          "data": {
            "text/plain": [
              "[('india rubber', 0.8076974),\n",
              " ('beserk', 0.76184857),\n",
              " ('contz-ol', 0.76113075),\n",
              " ('other farm land nearer', 0.75545925),\n",
              " ('son lying', 0.75359654),\n",
              " ('mini van', 0.7524209),\n",
              " ('ex gratia', 0.7454772),\n",
              " ('mini van east', 0.74464554),\n",
              " ('natural mother’s breast', 0.74157065),\n",
              " ('gratia', 0.74116015)]"
            ]
          },
          "metadata": {
            "tags": []
          },
          "execution_count": 37
        }
      ]
    },
    {
      "cell_type": "code",
      "metadata": {
        "id": "fbDKTc5Bv-C0",
        "colab_type": "code",
        "colab": {
          "base_uri": "https://localhost:8080/",
          "height": 191
        },
        "outputId": "94d2ceaf-57bd-47ae-e89d-4ba07913d25d"
      },
      "source": [
        "illT2V.get_similar_terms('india')"
      ],
      "execution_count": null,
      "outputs": [
        {
          "output_type": "execute_result",
          "data": {
            "text/plain": [
              "[('india rubber', 0.7100314),\n",
              " ('Dindia', 0.69413203),\n",
              " ('trichina', 0.6936052),\n",
              " ('beserk', 0.66912293),\n",
              " ('the dia', 0.6578055),\n",
              " ('contz-ol', 0.65780413),\n",
              " ('ex gratia', 0.65769255),\n",
              " ('gratia', 0.6544252),\n",
              " ('indietm nt', 0.6525573),\n",
              " ('intei%st', 0.6500038)]"
            ]
          },
          "metadata": {
            "tags": []
          },
          "execution_count": 38
        }
      ]
    }
  ]
}